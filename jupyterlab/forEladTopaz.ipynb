{
 "cells": [
  {
   "cell_type": "code",
   "execution_count": 1,
   "id": "d3993d49-0e65-4caa-93f3-8bdbd5394a29",
   "metadata": {},
   "outputs": [
    {
     "name": "stdout",
     "output_type": "stream",
     "text": [
      "Документ1  [Режим совместимости]\n",
      "Страница-1\n",
      "---\n"
     ]
    }
   ],
   "source": [
    "# original macro https://github.com/Surrogate-TM/surrogate-tm.github.io/blob/master/own/macro/vsd_DockedStencilsList.txt\n",
    "\n",
    "import win32com.client\n",
    "\n",
    "app = win32com.client.Dispatch('Visio.Application')\n",
    "app.Visible = True\n",
    "\n",
    "doc = app.ActiveDocument #Open template document\n",
    "# custom_stencil = app.Documents.OpenEx('d:\\\\custom_stencil.vssx', 6) #Open docked+read-only custom stencil\n",
    "print (app.ActiveWindow.Caption)\n",
    "\n",
    "page = app.ActivePage\n",
    "print (page.name)\n",
    "#Show the all items in document stencil\n",
    "for mst_i in doc.Masters:\n",
    "    print(mst_i)\n",
    "    \n",
    "print ('---')\n",
    "#Show the all items in external stencil\n",
    "\n",
    "\n",
    "\n"
   ]
  },
  {
   "cell_type": "markdown",
   "id": "94b37f3d",
   "metadata": {},
   "source": [
    "import win32com.client as w32\n",
    "visio = w32.Dispatch(\"visio.Application\")\n",
    "visio.Visible = 1\n",
    "doc = visio.activedocument\n",
    "page = doc.pages(1)\n",
    "page.name = \"Mydrawing\"\n",
    "stn2 = visio.Documents(2)\n",
    "server = stn2.Masters('Server')\n",
    "serv = page.Drop(server, 0, 0)\n",
    "#iterate all sub-shapes into Serv-shape\n",
    "#for i in range (2,5):    \n",
    "\n",
    "#ssh = serv.shapes(i)\n",
    "#ssh.Cells( 'Fillforegnd' ).FormulaU = 'RGB(255,255,0)'\n",
    "   \n",
    "print ('---')\n",
    "#Show the all items in external stencil"
   ]
  },
  {
   "cell_type": "code",
   "execution_count": 20,
   "id": "54f6a4d6",
   "metadata": {},
   "outputs": [
    {
     "name": "stdout",
     "output_type": "stream",
     "text": [
      "---\n"
     ]
    }
   ],
   "source": [
    "import win32com.client as w32 \n",
    "visio = w32.Dispatch(\"visio.Application\") \n",
    "visio.Visible = 1 \n",
    "doc = visio.activedocument \n",
    "page = doc.pages(1) \n",
    "stn2 = visio.Documents(2) \n",
    "server = stn2.Masters('Server') \n",
    "serv = page.Drop(server, 0, 0) \n",
    "#iterate all sub-shapes into Serv-shape #\n",
    "for i in range (2,5):\n",
    "    ssh = serv.shapes(i) \n",
    "    ssh.Cells( 'Fillforegnd' ).FormulaU = 'RGB(255,255,0)'\n",
    "print ('---') #Show the all items in external stencil"
   ]
  },
  {
   "cell_type": "code",
   "execution_count": null,
   "id": "f145475f",
   "metadata": {},
   "outputs": [],
   "source": []
  },
  {
   "cell_type": "code",
   "execution_count": null,
   "id": "7566e4cc",
   "metadata": {},
   "outputs": [],
   "source": []
  }
 ],
 "metadata": {
  "kernelspec": {
   "display_name": "Python 3 (ipykernel)",
   "language": "python",
   "name": "python3"
  },
  "language_info": {
   "codemirror_mode": {
    "name": "ipython",
    "version": 3
   },
   "file_extension": ".py",
   "mimetype": "text/x-python",
   "name": "python",
   "nbconvert_exporter": "python",
   "pygments_lexer": "ipython3",
   "version": "3.9.7"
  },
  "toc-autonumbering": true,
  "toc-showcode": true,
  "toc-showmarkdowntxt": true
 },
 "nbformat": 4,
 "nbformat_minor": 5
}
