{
 "cells": [
  {
   "cell_type": "code",
   "execution_count": 4,
   "id": "aa2725d1-98bf-4969-a7cd-12b1240d4c57",
   "metadata": {},
   "outputs": [
    {
     "name": "stdout",
     "output_type": "stream",
     "text": [
      "intSections: 1\n",
      "10\n",
      "====\n",
      "---\n",
      "0,0000 mm Geometry1.X1\n",
      "138\n"
     ]
    },
    {
     "ename": "AttributeError",
     "evalue": "<unknown>.Set_RowType",
     "output_type": "error",
     "traceback": [
      "\u001b[1;31m---------------------------------------------------------------------------\u001b[0m",
      "\u001b[1;31mAttributeError\u001b[0m                            Traceback (most recent call last)",
      "\u001b[1;32m~\\AppData\\Local\\Temp/ipykernel_5700/3532513393.py\u001b[0m in \u001b[0;36m<module>\u001b[1;34m\u001b[0m\n\u001b[0;32m     25\u001b[0m             \u001b[0mprint\u001b[0m\u001b[1;33m(\u001b[0m\u001b[0mshp\u001b[0m\u001b[1;33m.\u001b[0m\u001b[0mRowType\u001b[0m\u001b[1;33m(\u001b[0m\u001b[0mintCurrentGeometrySection\u001b[0m\u001b[1;33m,\u001b[0m \u001b[0mintCurrentRow\u001b[0m\u001b[1;33m)\u001b[0m\u001b[1;33m)\u001b[0m\u001b[1;33m\u001b[0m\u001b[1;33m\u001b[0m\u001b[0m\n\u001b[0;32m     26\u001b[0m             \u001b[0mttt\u001b[0m \u001b[1;33m=\u001b[0m \u001b[0mshp\u001b[0m\u001b[1;33m.\u001b[0m\u001b[0mRowType\u001b[0m\u001b[1;33m(\u001b[0m\u001b[0mintCurrentGeometrySection\u001b[0m\u001b[1;33m,\u001b[0m \u001b[0mintCurrentRow\u001b[0m\u001b[1;33m)\u001b[0m \u001b[1;33m+\u001b[0m \u001b[1;36m100\u001b[0m\u001b[1;33m\u001b[0m\u001b[1;33m\u001b[0m\u001b[0m\n\u001b[1;32m---> 27\u001b[1;33m             \u001b[0mshp\u001b[0m\u001b[1;33m.\u001b[0m\u001b[0mSet_RowType\u001b[0m\u001b[1;33m(\u001b[0m\u001b[0mintCurrentGeometrySection\u001b[0m\u001b[1;33m,\u001b[0m \u001b[0mintCurrentRow\u001b[0m\u001b[1;33m,\u001b[0m \u001b[1;36m238\u001b[0m\u001b[1;33m)\u001b[0m\u001b[1;33m\u001b[0m\u001b[1;33m\u001b[0m\u001b[0m\n\u001b[0m\u001b[0;32m     28\u001b[0m \u001b[1;31m#            print(shp.RowType(intCurrentGeometrySection, intCurrentRow))\u001b[0m\u001b[1;33m\u001b[0m\u001b[1;33m\u001b[0m\u001b[0m\n",
      "\u001b[1;32mC:\\anaconda\\lib\\site-packages\\win32com\\client\\dynamic.py\u001b[0m in \u001b[0;36m__getattr__\u001b[1;34m(self, attr)\u001b[0m\n\u001b[0;32m    525\u001b[0m \u001b[1;33m\u001b[0m\u001b[0m\n\u001b[0;32m    526\u001b[0m                 \u001b[1;31m# no where else to look.\u001b[0m\u001b[1;33m\u001b[0m\u001b[1;33m\u001b[0m\u001b[0m\n\u001b[1;32m--> 527\u001b[1;33m                 \u001b[1;32mraise\u001b[0m \u001b[0mAttributeError\u001b[0m\u001b[1;33m(\u001b[0m\u001b[1;34m\"%s.%s\"\u001b[0m \u001b[1;33m%\u001b[0m \u001b[1;33m(\u001b[0m\u001b[0mself\u001b[0m\u001b[1;33m.\u001b[0m\u001b[0m_username_\u001b[0m\u001b[1;33m,\u001b[0m \u001b[0mattr\u001b[0m\u001b[1;33m)\u001b[0m\u001b[1;33m)\u001b[0m\u001b[1;33m\u001b[0m\u001b[1;33m\u001b[0m\u001b[0m\n\u001b[0m\u001b[0;32m    528\u001b[0m \u001b[1;33m\u001b[0m\u001b[0m\n\u001b[0;32m    529\u001b[0m         \u001b[1;32mdef\u001b[0m \u001b[0m__setattr__\u001b[0m\u001b[1;33m(\u001b[0m\u001b[0mself\u001b[0m\u001b[1;33m,\u001b[0m \u001b[0mattr\u001b[0m\u001b[1;33m,\u001b[0m \u001b[0mvalue\u001b[0m\u001b[1;33m)\u001b[0m\u001b[1;33m:\u001b[0m\u001b[1;33m\u001b[0m\u001b[1;33m\u001b[0m\u001b[0m\n",
      "\u001b[1;31mAttributeError\u001b[0m: <unknown>.Set_RowType"
     ]
    }
   ],
   "source": [
    "#https://github.com/Surrogate-TM/surrogate-tm.github.io/blob/a6a601956770662a2f7bcb360c2ede0bfd7c17d7/own/macro/vsd_GeometryItterate.txt\n",
    "\n",
    "import pymsgbox\n",
    "import win32com.client\n",
    "#import ctypes\n",
    "vApp = win32com.client.Dispatch('Visio.Application')\n",
    "vApp.Visible = True\n",
    "vDoc = vApp.ActiveDocument\n",
    "vWin = vApp.ActiveWindow\n",
    "shp = vWin.selection.primaryitem\n",
    "#print(shp.name)\n",
    "intSections = shp.GeometryCount\n",
    "ttt = \"intSections: \" + str(intSections)\n",
    "print(ttt)\n",
    "for j in range(0, intSections):\n",
    "    intCurrentGeometrySection = 10 + j\n",
    "    print(intCurrentGeometrySection)\n",
    "    intRows = shp.RowCount(intCurrentGeometrySection)\n",
    "    print(\"====\")\n",
    "    for intCurrentRow in (1, intRows - 1):\n",
    "        intCells = shp.RowsCellCount(intCurrentGeometrySection, intCurrentRow)\n",
    "        print(\"---\")\n",
    "        for intCurrentCell in range(0, intCells - 1):\n",
    "            print(shp.CellsSRC(intCurrentGeometrySection, intCurrentRow, intCurrentCell).resultstr(32),shp.CellsSRC(intCurrentGeometrySection, intCurrentRow, intCurrentCell).name)\n",
    "            print(shp.RowType(intCurrentGeometrySection, intCurrentRow))\n",
    "            ttt = shp.RowType(intCurrentGeometrySection, intCurrentRow) + 100\n",
    "            shp.Set_RowType(intCurrentGeometrySection, intCurrentRow, 238)\n",
    "#            print(shp.RowType(intCurrentGeometrySection, intCurrentRow))  "
   ]
  },
  {
   "cell_type": "code",
   "execution_count": null,
   "id": "a0da9c64-d54a-47b4-a1ca-3ab957a3e81e",
   "metadata": {},
   "outputs": [],
   "source": []
  },
  {
   "cell_type": "code",
   "execution_count": null,
   "id": "9cae20d2-fbaf-48bd-815e-3c608bda9b28",
   "metadata": {},
   "outputs": [],
   "source": []
  },
  {
   "cell_type": "code",
   "execution_count": null,
   "id": "6256e1f5-4ae1-48ae-b465-e0e35e078d0a",
   "metadata": {},
   "outputs": [],
   "source": []
  },
  {
   "cell_type": "code",
   "execution_count": null,
   "id": "5e40f471-e040-457d-8eef-f602edda44f5",
   "metadata": {},
   "outputs": [],
   "source": []
  }
 ],
 "metadata": {
  "kernelspec": {
   "display_name": "Python 3 (ipykernel)",
   "language": "python",
   "name": "python3"
  },
  "language_info": {
   "codemirror_mode": {
    "name": "ipython",
    "version": 3
   },
   "file_extension": ".py",
   "mimetype": "text/x-python",
   "name": "python",
   "nbconvert_exporter": "python",
   "pygments_lexer": "ipython3",
   "version": "3.9.7"
  }
 },
 "nbformat": 4,
 "nbformat_minor": 5
}
