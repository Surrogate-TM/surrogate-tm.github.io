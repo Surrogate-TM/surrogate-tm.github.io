{
 "cells": [
  {
   "cell_type": "code",
   "execution_count": null,
   "id": "7a7b10bb-38e5-4057-92a7-dad4e5a623ae",
   "metadata": {},
   "outputs": [],
   "source": [
    "# Answer for topic http://visguy.com/vgforum/index.php?topic=9561.msg42769#msg42769\n",
    "\n",
    "import win32com.client\n",
    "\n",
    "app = win32com.client.Dispatch('Visio.Application')\n",
    "app.Visible = True\n",
    "\n",
    "doc = app.Documents.Open('d:\\\\X.vsd') #Open template document\n",
    "custom_stencil = app.Documents.OpenEx('d:\\\\custom_stencil.vssx', 6) #Open docked+read-only custom stencil\n",
    "\n",
    "page = app.ActivePage\n",
    "\n",
    "#Show the all items in document stencil\n",
    "for mst_i in doc.Masters:\n",
    "    print(mst_i)\n",
    "    \n",
    "print ('---')\n",
    "#Show the all items in external stencil\n",
    "for mst_e in custom_stencil.Masters:\n",
    "    print(mst_e)"
   ]
  }
 ],
 "metadata": {
  "kernelspec": {
   "display_name": "Python 3 (ipykernel)",
   "language": "python",
   "name": "python3"
  },
  "language_info": {
   "codemirror_mode": {
    "name": "ipython",
    "version": 3
   },
   "file_extension": ".py",
   "mimetype": "text/x-python",
   "name": "python",
   "nbconvert_exporter": "python",
   "pygments_lexer": "ipython3",
   "version": "3.9.7"
  }
 },
 "nbformat": 4,
 "nbformat_minor": 5
}
