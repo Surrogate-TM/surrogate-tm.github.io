{
 "cells": [
  {
   "cell_type": "code",
   "execution_count": null,
   "id": "aa2725d1-98bf-4969-a7cd-12b1240d4c57",
   "metadata": {},
   "outputs": [],
   "source": [
    "#https://github.com/Surrogate-TM/surrogate-tm.github.io/blob/a6a601956770662a2f7bcb360c2ede0bfd7c17d7/own/macro/vsd_GeometryItterate.txt\n",
    "\n",
    "import pymsgbox\n",
    "import win32com.client\n",
    "#import ctypes\n",
    "vApp = win32com.client.Dispatch('Visio.Application')\n",
    "vApp.Visible = True\n",
    "vDoc = vApp.ActiveDocument\n",
    "vWin = vApp.ActiveWindow\n",
    "shp = vWin.selection.primaryitem\n",
    "#print(shp.name)\n",
    "intSections = shp.GeometryCount\n",
    "ttt = \"intSections: \" + str(intSections)\n",
    "print(ttt)\n",
    "for j in range(0, intSections):\n",
    "    intCurrentGeometrySection = 10 + j\n",
    "    print(intCurrentGeometrySection)\n",
    "    intRows = shp.RowCount(intCurrentGeometrySection)\n",
    "    print(\"====\")\n",
    "    for intCurrentRow in (0, intRows - 1):\n",
    "        intCells = shp.RowsCellCount(intCurrentGeometrySection, intCurrentRow)\n",
    "        print(\"---\")\n",
    "        for intCurrentCell in range(0, intCells - 1):\n",
    "            print(shp.CellsSRC(intCurrentGeometrySection, intCurrentRow, intCurrentCell).resultstr(32),shp.CellsSRC(intCurrentGeometrySection, intCurrentRow, intCurrentCell).name)"
   ]
  },
  {
   "cell_type": "code",
   "execution_count": null,
   "id": "a0da9c64-d54a-47b4-a1ca-3ab957a3e81e",
   "metadata": {},
   "outputs": [],
   "source": []
  },
  {
   "cell_type": "code",
   "execution_count": null,
   "id": "9cae20d2-fbaf-48bd-815e-3c608bda9b28",
   "metadata": {},
   "outputs": [],
   "source": []
  },
  {
   "cell_type": "code",
   "execution_count": null,
   "id": "6256e1f5-4ae1-48ae-b465-e0e35e078d0a",
   "metadata": {},
   "outputs": [],
   "source": []
  },
  {
   "cell_type": "code",
   "execution_count": null,
   "id": "5e40f471-e040-457d-8eef-f602edda44f5",
   "metadata": {},
   "outputs": [],
   "source": []
  }
 ],
 "metadata": {
  "kernelspec": {
   "display_name": "Python 3 (ipykernel)",
   "language": "python",
   "name": "python3"
  },
  "language_info": {
   "codemirror_mode": {
    "name": "ipython",
    "version": 3
   },
   "file_extension": ".py",
   "mimetype": "text/x-python",
   "name": "python",
   "nbconvert_exporter": "python",
   "pygments_lexer": "ipython3",
   "version": "3.9.7"
  }
 },
 "nbformat": 4,
 "nbformat_minor": 5
}
