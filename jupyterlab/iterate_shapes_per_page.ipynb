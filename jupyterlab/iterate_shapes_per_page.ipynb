{
 "cells": [
  {
   "cell_type": "markdown",
   "id": "eaa2bf7c",
   "metadata": {},
   "source": [
    "This notebook was created for help user in Stack OverFlow forum's thread: https://stackoverflow.com/questions/73132965/parse-viso-grouped-shapes-with-python"
   ]
  },
  {
   "cell_type": "code",
   "execution_count": 19,
   "id": "c0aa8d59",
   "metadata": {},
   "outputs": [
    {
     "name": "stdout",
     "output_type": "stream",
     "text": [
      "Sheet.3 lol\n",
      "Sheet.4 kel\n",
      "Sheet.6 is group, which contain shapes:\n",
      "------\n",
      "    Sheet.5 ₪\n",
      "------\n",
      "Sheet.7 740\n",
      "Sheet.10 is group, which contain shapes:\n",
      "------\n",
      "    Sheet.8 ddd\n",
      "    Sheet.9 hhh\n",
      "------\n"
     ]
    }
   ],
   "source": [
    "def parse_names(sh, bul):\n",
    "    if bul == 1:\n",
    "        pref = \"    \"\n",
    "    else:\n",
    "        pref =\"\"\n",
    "              \n",
    "    print(pref+sh.Name, sh.Text)\n",
    "\n",
    "import win32com.client as w32 \n",
    "visio = w32.Dispatch(\"visio.Application\") \n",
    "visio.Visible = 1 \n",
    "doc = visio.activedocument \n",
    "page = doc.pages(1) \n",
    "shps = page.Shapes\n",
    "for shp in shps:\n",
    "    if shp.type == 2:\n",
    "        parse_names(shp, 0)\n",
    "        print(shp.name+\" is group, which contain shapes:\")\n",
    "        print(\"------\")\n",
    "        for sshp in shp.shapes:\n",
    "            parse_names(sshp, 1)\n",
    "            \n",
    "        print(\"------\") \n",
    "    else:\n",
    "        parse_names(shp, 0)"
   ]
  }
 ],
 "metadata": {
  "kernelspec": {
   "display_name": "Python 3 (ipykernel)",
   "language": "python",
   "name": "python3"
  },
  "language_info": {
   "codemirror_mode": {
    "name": "ipython",
    "version": 3
   },
   "file_extension": ".py",
   "mimetype": "text/x-python",
   "name": "python",
   "nbconvert_exporter": "python",
   "pygments_lexer": "ipython3",
   "version": "3.9.7"
  }
 },
 "nbformat": 4,
 "nbformat_minor": 5
}
