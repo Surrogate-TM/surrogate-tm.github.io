{
 "cells": [
  {
   "cell_type": "markdown",
   "id": "e670f41b-bb25-4f27-96cc-8990edcfa0b1",
   "metadata": {},
   "source": [
    "This notebook prepared as answer for forum's thread [Mapping our vendor stencil server/network device ports](https://visguy.com/vgforum/index.php?topic=10373.0)"
   ]
  },
  {
   "cell_type": "code",
   "execution_count": null,
   "id": "e6ca288a-06e6-4826-8dc9-ea4910c15daf",
   "metadata": {},
   "outputs": [],
   "source": [
    "# This script collect to Excel's sheet coordinates of selected shape's connection points. \n",
    "# Fill 2nd and 3rd columns. User in 1st columt write desired connection points names.\n",
    "\n",
    "import win32com.client\n",
    "eApp = win32com.client.Dispatch('Excel.Application')\n",
    "eApp.Visible = True\n",
    "eWb = eApp.ActiveWorkbook\n",
    "eSh = eWb.ActiveSheet\n",
    "vApp = win32com.client.Dispatch('Visio.Application')\n",
    "vApp.Visible = True\n",
    "vDoc = vApp.ActiveDocument\n",
    "vWin = vApp.ActiveWindow\n",
    "shp = vWin.selection.primaryitem\n",
    "sec = shp.Section(7)\n",
    "for i in range (0, sec.count):\n",
    "    rw = sec.row(i)  \n",
    "    cx = eSh.Cells(i+1, 2)\n",
    "    cx.value= rw.cell(0)\n",
    "    cy = eSh.Cells(i+1, 3)\n",
    "    cy.value= rw.cell(1)\n",
    "    "
   ]
  },
  {
   "cell_type": "code",
   "execution_count": null,
   "id": "db6c59ae-672e-4385-a7c3-c510d20f6ac0",
   "metadata": {},
   "outputs": [],
   "source": [
    "# This script changed connection points names from Excel's sheet (1st column). \n",
    "\n",
    "import win32com.client\n",
    "eApp = win32com.client.Dispatch('Excel.Application')\n",
    "eApp.Visible = True\n",
    "eWb = eApp.ActiveWorkbook\n",
    "eSh = eWb.ActiveSheet\n",
    "vApp = win32com.client.Dispatch('Visio.Application')\n",
    "vApp.Visible = True\n",
    "vDoc = vApp.ActiveDocument\n",
    "vWin = vApp.ActiveWindow\n",
    "shp = vWin.selection.primaryitem\n",
    "sec = shp.Section(7)\n",
    "for i in range (0, sec.count):\n",
    "    rw = sec.row(i)\n",
    "    rw.name = eSh.Cells(i+1,1)\n"
   ]
  },
  {
   "cell_type": "code",
   "execution_count": null,
   "id": "fa9b492a-ad0c-47b8-b39a-baf216627ba1",
   "metadata": {},
   "outputs": [],
   "source": []
  }
 ],
 "metadata": {
  "kernelspec": {
   "display_name": "Python 3 (ipykernel)",
   "language": "python",
   "name": "python3"
  },
  "language_info": {
   "codemirror_mode": {
    "name": "ipython",
    "version": 3
   },
   "file_extension": ".py",
   "mimetype": "text/x-python",
   "name": "python",
   "nbconvert_exporter": "python",
   "pygments_lexer": "ipython3",
   "version": "3.11.5"
  }
 },
 "nbformat": 4,
 "nbformat_minor": 5
}
