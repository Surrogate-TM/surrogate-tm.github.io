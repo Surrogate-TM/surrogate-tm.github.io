{
 "cells": [
  {
   "cell_type": "markdown",
   "id": "df277205",
   "metadata": {},
   "source": [
    "This notebook was created for help user in Stack OverFlow forum's thread:\n",
    "https://stackoverflow.com/questions/72927582/fill-a-visio-element-with-color-using-python/72929470#72929470"
   ]
  },
  {
   "cell_type": "code",
   "execution_count": 1,
   "id": "c0aa8d59",
   "metadata": {},
   "outputs": [],
   "source": [
    "import win32com.client as w32 \n",
    "visio = w32.Dispatch(\"visio.Application\") \n",
    "visio.Visible = 1 \n",
    "doc = visio.activedocument \n",
    "page = doc.pages(1) \n",
    "stn2 = visio.Documents(2) \n",
    "server = stn2.Masters('Server') \n",
    "serv = page.Drop(server, 0, 0) \n",
    "#iterate 2nd, 3rd and 4rd sub-shapes into Serv-shape #\n",
    "for i in range (2,5):\n",
    "    ssh = serv.shapes(i) \n",
    "    ssh.Cells( 'Fillforegnd' ).FormulaU = 'RGB(255,255,0)'"
   ]
  },
  {
   "cell_type": "code",
   "execution_count": null,
   "id": "a2996b8a",
   "metadata": {},
   "outputs": [],
   "source": []
  }
 ],
 "metadata": {
  "kernelspec": {
   "display_name": "Python 3 (ipykernel)",
   "language": "python",
   "name": "python3"
  },
  "language_info": {
   "codemirror_mode": {
    "name": "ipython",
    "version": 3
   },
   "file_extension": ".py",
   "mimetype": "text/x-python",
   "name": "python",
   "nbconvert_exporter": "python",
   "pygments_lexer": "ipython3",
   "version": "3.9.7"
  }
 },
 "nbformat": 4,
 "nbformat_minor": 5
}
