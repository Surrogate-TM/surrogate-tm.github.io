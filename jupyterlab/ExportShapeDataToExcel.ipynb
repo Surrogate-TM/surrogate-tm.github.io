{
 "cells": [
  {
   "cell_type": "code",
   "execution_count": 37,
   "id": "dd0f872a-d7a1-4954-92b1-5ea6c14213f0",
   "metadata": {},
   "outputs": [],
   "source": [
    "# original macro https://github.com/Surrogate-TM/surrogate-tm.github.io/blob/master/own/ExportShapeDataToExcel.txt\n",
    "\n",
    "import pymsgbox\n",
    "import win32com.client\n",
    "#import ctypes\n",
    "vApp = win32com.client.Dispatch('Visio.Application')\n",
    "vApp.Visible = True\n",
    "eApp = win32com.client.Dispatch('Excel.Application')\n",
    "eApp.Visible = False\n",
    "vDoc = vApp.ActiveDocument\n",
    "vWin = vApp.ActiveWindow\n",
    "if vWin.Selection.Count==0:\n",
    "    pymsgbox.alert('Try again!', 'You need select ONE shape') \n",
    "    exit(\"You need select ONE shape\")\n",
    "    \n",
    "if vWin.Selection.Count>=2:\n",
    "    pymsgbox.alert('You select more than ONE shape, this code will export ShapeData only for primary selected shape')\n",
    "    \n",
    "sl = vWin.Selection.PrimaryItem\n",
    "if sl.SectionExists(243, True)==0 or sl.Section(243).count==0:\n",
    "    pymsgbox.alert('Try again!', \"Selected shape haven't ShapeData\") \n",
    "    exit(\"You need select another shape\")\n",
    "else:\n",
    "    sc = sl.Section(243)\n",
    "#    if sc.count==0:\n",
    "#        pymsgbox.alert('Try again!', \"Selected shape haven't ShapeData\") \n",
    "#        exit(\"You need select another shape\")\n",
    "#    else:\n",
    "#    print(sc.count)\n",
    "    eApp.Visible = True\n",
    "    ew = eApp.workbooks.add\n",
    "    es = ew.sheets(1)\n",
    "#    print(es.name)\n",
    "    for i in range(0, sc.count):\n",
    "        rw = sc.Row(i)\n",
    "        nm = \"prop.\" + rw.name\n",
    "        es.Cells(i + 1, 2).NumberFormat = \"@\"\n",
    "        \n",
    "        es.Cells(i + 1, 1).value2 = nm\n",
    "        if sl.CellsSRC(243,i,5).formula==2:\n",
    "            xxx = rw.Cell(0).Result(32)\n",
    "        else:\n",
    "            xxx = rw.Cell(0).ResultStr(1)\n",
    "\n",
    "        es.Cells(i + 1, 2).value2 = xxx"
   ]
  }
 ],
 "metadata": {
  "kernelspec": {
   "display_name": "Python 3 (ipykernel)",
   "language": "python",
   "name": "python3"
  },
  "language_info": {
   "codemirror_mode": {
    "name": "ipython",
    "version": 3
   },
   "file_extension": ".py",
   "mimetype": "text/x-python",
   "name": "python",
   "nbconvert_exporter": "python",
   "pygments_lexer": "ipython3",
   "version": "3.9.7"
  }
 },
 "nbformat": 4,
 "nbformat_minor": 5
}
