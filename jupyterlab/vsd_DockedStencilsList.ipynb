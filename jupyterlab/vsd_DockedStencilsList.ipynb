{
 "cells": [
  {
   "cell_type": "code",
   "execution_count": 2,
   "id": "d3993d49-0e65-4caa-93f3-8bdbd5394a29",
   "metadata": {},
   "outputs": [
    {
     "name": "stdout",
     "output_type": "stream",
     "text": [
      "GraphKey\n",
      "Страница-1\n",
      "Динамическая соединительная линия\n",
      "Master.4\n",
      "---\n"
     ]
    }
   ],
   "source": [
    "# original macro https://github.com/Surrogate-TM/surrogate-tm.github.io/blob/master/own/macro/vsd_DockedStencilsList.txt\n",
    "\n",
    "import win32com.client\n",
    "\n",
    "app = win32com.client.Dispatch('Visio.Application')\n",
    "app.Visible = True\n",
    "\n",
    "doc = app.ActiveDocument #Open template document\n",
    "# custom_stencil = app.Documents.OpenEx('d:\\\\custom_stencil.vssx', 6) #Open docked+read-only custom stencil\n",
    "print (app.ActiveWindow.Caption)\n",
    "\n",
    "page = app.ActivePage\n",
    "print (page.name)\n",
    "#Show the all items in document stencil\n",
    "for mst_i in doc.Masters:\n",
    "    print(mst_i)\n",
    "    \n",
    "print ('---')\n",
    "#Show the all items in external stencil\n",
    "\n",
    "\n",
    "\n"
   ]
  },
  {
   "cell_type": "code",
   "execution_count": null,
   "id": "e1626085-1353-4096-890b-1fda358a331a",
   "metadata": {},
   "outputs": [],
   "source": []
  }
 ],
 "metadata": {
  "kernelspec": {
   "display_name": "Python 3 (ipykernel)",
   "language": "python",
   "name": "python3"
  },
  "language_info": {
   "codemirror_mode": {
    "name": "ipython",
    "version": 3
   },
   "file_extension": ".py",
   "mimetype": "text/x-python",
   "name": "python",
   "nbconvert_exporter": "python",
   "pygments_lexer": "ipython3",
   "version": "3.9.7"
  },
  "toc-autonumbering": true,
  "toc-showcode": true,
  "toc-showmarkdowntxt": true
 },
 "nbformat": 4,
 "nbformat_minor": 5
}
